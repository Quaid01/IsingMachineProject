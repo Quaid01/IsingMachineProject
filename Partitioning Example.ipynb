{
 "cells": [
  {
   "cell_type": "code",
   "execution_count": 1,
   "id": "88eb3313-9cf6-462d-8d6a-762f78b334fb",
   "metadata": {},
   "outputs": [
    {
     "ename": "LoadError",
     "evalue": "ArgumentError: Package Dice not found in current path.\n- Run `import Pkg; Pkg.add(\"Dice\")` to install the Dice package.",
     "output_type": "error",
     "traceback": [
      "ArgumentError: Package Dice not found in current path.\n- Run `import Pkg; Pkg.add(\"Dice\")` to install the Dice package.",
      "",
      "Stacktrace:",
      " [1] \u001b[0m\u001b[1mmacro expansion\u001b[22m",
      "\u001b[90m   @\u001b[39m \u001b[90m./\u001b[39m\u001b[90m\u001b[4mloading.jl:2296\u001b[24m\u001b[39m\u001b[90m [inlined]\u001b[39m",
      " [2] \u001b[0m\u001b[1mmacro expansion\u001b[22m",
      "\u001b[90m   @\u001b[39m \u001b[90m./\u001b[39m\u001b[90m\u001b[4mlock.jl:273\u001b[24m\u001b[39m\u001b[90m [inlined]\u001b[39m",
      " [3] \u001b[0m\u001b[1m__require\u001b[22m\u001b[0m\u001b[1m(\u001b[22m\u001b[90minto\u001b[39m::\u001b[0mModule, \u001b[90mmod\u001b[39m::\u001b[0mSymbol\u001b[0m\u001b[1m)\u001b[22m",
      "\u001b[90m   @\u001b[39m \u001b[90mBase\u001b[39m \u001b[90m./\u001b[39m\u001b[90m\u001b[4mloading.jl:2271\u001b[24m\u001b[39m",
      " [4] \u001b[0m\u001b[1m#invoke_in_world#3\u001b[22m",
      "\u001b[90m   @\u001b[39m \u001b[90m./\u001b[39m\u001b[90m\u001b[4messentials.jl:1089\u001b[24m\u001b[39m\u001b[90m [inlined]\u001b[39m",
      " [5] \u001b[0m\u001b[1minvoke_in_world\u001b[22m",
      "\u001b[90m   @\u001b[39m \u001b[90m./\u001b[39m\u001b[90m\u001b[4messentials.jl:1086\u001b[24m\u001b[39m\u001b[90m [inlined]\u001b[39m",
      " [6] \u001b[0m\u001b[1mrequire\u001b[22m\u001b[0m\u001b[1m(\u001b[22m\u001b[90minto\u001b[39m::\u001b[0mModule, \u001b[90mmod\u001b[39m::\u001b[0mSymbol\u001b[0m\u001b[1m)\u001b[22m",
      "\u001b[90m   @\u001b[39m \u001b[90mBase\u001b[39m \u001b[90m./\u001b[39m\u001b[90m\u001b[4mloading.jl:2260\u001b[24m\u001b[39m"
     ]
    }
   ],
   "source": [
    "# script simple.jl\n",
    "# Simply IM demonstration\n",
    "\n",
    "using Dice\n"
   ]
  },
  {
   "cell_type": "code",
   "execution_count": 2,
   "id": "0fa3244a-5e47-4993-af0c-bc39b25ea357",
   "metadata": {},
   "outputs": [
    {
     "name": "stderr",
     "output_type": "stream",
     "text": [
      "\u001b[32m\u001b[1m    Updating\u001b[22m\u001b[39m registry at `~/.julia/registries/General.toml`\n"
     ]
    },
    {
     "ename": "LoadError",
     "evalue": "The following package names could not be resolved:\n * Dice (not found in project, manifest or registry)\n\u001b[36m   Suggestions:\u001b[39m \u001b[0m\u001b[1mD\u001b[22m\u001b[0m\u001b[1mi\u001b[22m\u001b[0m\u001b[1mc\u001b[22m\u001b[0m\u001b[1me\u001b[22ms Mice Juice \u001b[0m\u001b[1mD\u001b[22mance Xyce Hive \u001b[0m\u001b[1mD\u001b[22mocx Fire Jive Pipe Pickle",
     "output_type": "error",
     "traceback": [
      "The following package names could not be resolved:\n * Dice (not found in project, manifest or registry)\n\u001b[36m   Suggestions:\u001b[39m \u001b[0m\u001b[1mD\u001b[22m\u001b[0m\u001b[1mi\u001b[22m\u001b[0m\u001b[1mc\u001b[22m\u001b[0m\u001b[1me\u001b[22ms Mice Juice \u001b[0m\u001b[1mD\u001b[22mance Xyce Hive \u001b[0m\u001b[1mD\u001b[22mocx Fire Jive Pipe Pickle",
      "",
      "Stacktrace:",
      " [1] \u001b[0m\u001b[1mpkgerror\u001b[22m\u001b[0m\u001b[1m(\u001b[22m\u001b[90mmsg\u001b[39m::\u001b[0mString\u001b[0m\u001b[1m)\u001b[22m",
      "\u001b[90m   @\u001b[39m \u001b[35mPkg.Types\u001b[39m \u001b[90m~/.julia/juliaup/julia-1.11.6+0.aarch64.apple.darwin14/share/julia/stdlib/v1.11/Pkg/src/\u001b[39m\u001b[90m\u001b[4mTypes.jl:68\u001b[24m\u001b[39m",
      " [2] \u001b[0m\u001b[1mensure_resolved\u001b[22m\u001b[0m\u001b[1m(\u001b[22m\u001b[90mctx\u001b[39m::\u001b[0mPkg.Types.Context, \u001b[90mmanifest\u001b[39m::\u001b[0mPkg.Types.Manifest, \u001b[90mpkgs\u001b[39m::\u001b[0mVector\u001b[90m{Pkg.Types.PackageSpec}\u001b[39m; \u001b[90mregistry\u001b[39m::\u001b[0mBool\u001b[0m\u001b[1m)\u001b[22m",
      "\u001b[90m   @\u001b[39m \u001b[35mPkg.Types\u001b[39m \u001b[90m~/.julia/juliaup/julia-1.11.6+0.aarch64.apple.darwin14/share/julia/stdlib/v1.11/Pkg/src/\u001b[39m\u001b[90m\u001b[4mTypes.jl:1040\u001b[24m\u001b[39m",
      " [3] \u001b[0m\u001b[1mensure_resolved\u001b[22m",
      "\u001b[90m   @\u001b[39m \u001b[90m~/.julia/juliaup/julia-1.11.6+0.aarch64.apple.darwin14/share/julia/stdlib/v1.11/Pkg/src/\u001b[39m\u001b[90m\u001b[4mTypes.jl:991\u001b[24m\u001b[39m\u001b[90m [inlined]\u001b[39m",
      " [4] \u001b[0m\u001b[1madd\u001b[22m\u001b[0m\u001b[1m(\u001b[22m\u001b[90mctx\u001b[39m::\u001b[0mPkg.Types.Context, \u001b[90mpkgs\u001b[39m::\u001b[0mVector\u001b[90m{Pkg.Types.PackageSpec}\u001b[39m; \u001b[90mpreserve\u001b[39m::\u001b[0mPkg.Types.PreserveLevel, \u001b[90mplatform\u001b[39m::\u001b[0mBase.BinaryPlatforms.Platform, \u001b[90mtarget\u001b[39m::\u001b[0mSymbol, \u001b[90mallow_autoprecomp\u001b[39m::\u001b[0mBool, \u001b[90mkwargs\u001b[39m::\u001b[0m@Kwargs\u001b[90m{io::IOContext{IO}}\u001b[39m\u001b[0m\u001b[1m)\u001b[22m",
      "\u001b[90m   @\u001b[39m \u001b[35mPkg.API\u001b[39m \u001b[90m~/.julia/juliaup/julia-1.11.6+0.aarch64.apple.darwin14/share/julia/stdlib/v1.11/Pkg/src/\u001b[39m\u001b[90m\u001b[4mAPI.jl:300\u001b[24m\u001b[39m",
      " [5] \u001b[0m\u001b[1madd\u001b[22m\u001b[0m\u001b[1m(\u001b[22m\u001b[90mpkgs\u001b[39m::\u001b[0mVector\u001b[90m{Pkg.Types.PackageSpec}\u001b[39m; \u001b[90mio\u001b[39m::\u001b[0mIOContext\u001b[90m{IO}\u001b[39m, \u001b[90mkwargs\u001b[39m::\u001b[0m@Kwargs\u001b[90m{}\u001b[39m\u001b[0m\u001b[1m)\u001b[22m",
      "\u001b[90m   @\u001b[39m \u001b[35mPkg.API\u001b[39m \u001b[90m~/.julia/juliaup/julia-1.11.6+0.aarch64.apple.darwin14/share/julia/stdlib/v1.11/Pkg/src/\u001b[39m\u001b[90m\u001b[4mAPI.jl:159\u001b[24m\u001b[39m",
      " [6] \u001b[0m\u001b[1madd\u001b[22m\u001b[0m\u001b[1m(\u001b[22m\u001b[90mpkgs\u001b[39m::\u001b[0mVector\u001b[90m{Pkg.Types.PackageSpec}\u001b[39m\u001b[0m\u001b[1m)\u001b[22m",
      "\u001b[90m   @\u001b[39m \u001b[35mPkg.API\u001b[39m \u001b[90m~/.julia/juliaup/julia-1.11.6+0.aarch64.apple.darwin14/share/julia/stdlib/v1.11/Pkg/src/\u001b[39m\u001b[90m\u001b[4mAPI.jl:148\u001b[24m\u001b[39m",
      " [7] \u001b[0m\u001b[1madd\u001b[22m",
      "\u001b[90m   @\u001b[39m \u001b[90m~/.julia/juliaup/julia-1.11.6+0.aarch64.apple.darwin14/share/julia/stdlib/v1.11/Pkg/src/\u001b[39m\u001b[90m\u001b[4mAPI.jl:147\u001b[24m\u001b[39m\u001b[90m [inlined]\u001b[39m",
      " [8] \u001b[0m\u001b[1madd\u001b[22m\u001b[0m\u001b[1m(\u001b[22m\u001b[90mpkg\u001b[39m::\u001b[0mString\u001b[0m\u001b[1m)\u001b[22m",
      "\u001b[90m   @\u001b[39m \u001b[35mPkg.API\u001b[39m \u001b[90m~/.julia/juliaup/julia-1.11.6+0.aarch64.apple.darwin14/share/julia/stdlib/v1.11/Pkg/src/\u001b[39m\u001b[90m\u001b[4mAPI.jl:146\u001b[24m\u001b[39m",
      " [9] top-level scope",
      "\u001b[90m   @\u001b[39m \u001b[90m\u001b[4mIn[2]:1\u001b[24m\u001b[39m"
     ]
    }
   ],
   "source": [
    "import Pkg; Pkg.add(\"Dice\")"
   ]
  },
  {
   "cell_type": "code",
   "execution_count": null,
   "id": "2a913eb1-bb4b-4e9c-a75b-7f93b26499d7",
   "metadata": {},
   "outputs": [],
   "source": []
  }
 ],
 "metadata": {
  "kernelspec": {
   "display_name": "Julia 1.11.6",
   "language": "julia",
   "name": "julia-1.11"
  },
  "language_info": {
   "file_extension": ".jl",
   "mimetype": "application/julia",
   "name": "julia",
   "version": "1.11.6"
  }
 },
 "nbformat": 4,
 "nbformat_minor": 5
}
