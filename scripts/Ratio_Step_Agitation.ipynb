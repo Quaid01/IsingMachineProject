{
 "cells": [
  {
   "cell_type": "markdown",
   "id": "d89f9708-a6b6-44fd-b20b-c98fe6c8e9f7",
   "metadata": {},
   "source": [
    "# EXPERIMENT 3\n",
    "\n",
    "So, now we will work with an inverse relationship of agitation and step count (and thus smaller steps). The constant of this inverse relationship will be from $10^5$, $10^4$, and $10^3$. (Which I use, I do not know, we shall see.) Anyhow, the goal to see how  increasing Agitations while lowering time steps will be on speed. Hopefully this test will show the ideal ratio, which can then be used from now on. \n",
    "\n",
    "The maximum number of agitations will be $10^4$, $10^3$, and $10^2$. I do not expect the max value to be necessary, but we will see what happens."
   ]
  },
  {
   "cell_type": "code",
   "execution_count": 1,
   "id": "3d186a9f-c9a0-4940-8360-6b63f9afbed3",
   "metadata": {},
   "outputs": [],
   "source": [
    "# Packages\n",
    "\n",
    "using Dice, Graphs, SimpleWeightedGraphs"
   ]
  },
  {
   "cell_type": "code",
   "execution_count": 2,
   "id": "a0c0d373-7426-4bec-a053-dab2a4f311a9",
   "metadata": {},
   "outputs": [
    {
     "data": {
      "text/plain": [
       "sum_problem (generic function with 1 method)"
      ]
     },
     "execution_count": 2,
     "metadata": {},
     "output_type": "execute_result"
    }
   ],
   "source": [
    "# Set generating function\n",
    "\n",
    "\"\"\"This creates a set with lenght n such that the first n-1 entries are \n",
    "randomized from [-10,10] and the last entry is the  sum of the other n-1 entries.\n",
    "The intended solution for this set is the n-1 entries in one partition while the last entry is in another. But there may be a set \n",
    "where there are multiple entries and thus solutions.\"\"\"\n",
    "\n",
    "function sum_problem(set_length::Int) ::Vector{Int}\n",
    "    set = []\n",
    "    for i in 1:set_length-1\n",
    "        k = 0\n",
    "        while k == 0\n",
    "            k = rand(-10:10)\n",
    "        end\n",
    "        push!(set,k)\n",
    "    end\n",
    "    push!(set, sum(set))\n",
    "    return set\n",
    "end"
   ]
  },
  {
   "cell_type": "code",
   "execution_count": 3,
   "id": "988e5a3a-d417-4e4e-a3d0-67d7d2d0e3f5",
   "metadata": {},
   "outputs": [
    {
     "data": {
      "text/plain": [
       "Set_Step_Variational_Agitator (generic function with 1 method)"
      ]
     },
     "execution_count": 3,
     "metadata": {},
     "output_type": "execute_result"
    }
   ],
   "source": [
    "# Creating the computing function, this will be run to supply a single iteration of data.\n",
    "# It is simply a modified version of the Agitator from Agitator_Experiments.ipnyb\n",
    "# One thing to note is that convergence could still happen on the final attempt, \n",
    "# so the final value in the counts_list array is NOT an accurate representation.\n",
    "\n",
    "function Set_Step_Variational_Agitator(set::Vector{Int}, time_total::Int, steps::Int, agitation_count::Int, samples::Int) ::Vector\n",
    "    S = set\n",
    "    # Make Graph\n",
    "    graph_set = SimpleWeightedGraph(length(S))\n",
    "    \n",
    "    # Adding edges\n",
    "    for i in range(1,length(S)-1)\n",
    "        for j in range(i+1,length(S))\n",
    "        # We iterate over all possible options, excluding duplicates to avoid weird issues. Thus the range(i,4). \n",
    "        # Then we check if i == j, then the edge doesn't exist. Otherwise, continue\n",
    "            add_edge!(graph_set,i,j,(S[i]*S[j]))\n",
    "        end\n",
    "    end\n",
    "    \n",
    "    # Making model\n",
    "    # Stop time in model units\n",
    "    total_time = time_total\n",
    "    # Number of timesteps\n",
    "    num_steps = steps\n",
    "    # Step size\n",
    "    delta_t = total_time/num_steps\n",
    "    # Makes model\n",
    "    model = Dice.Model(graph_set, Dice.model_2_hybrid_coupling, delta_t)\n",
    "\n",
    "    # Making randomized initial state\n",
    "    num_vertices = Graphs.nv(model.graph)\n",
    "    \n",
    "    converged = 0\n",
    "    diverged = 0\n",
    "    counts_list = zeros(agitation_count)\n",
    "    times = []\n",
    "    # We assume set_up takes minimal time, bulk of computational time is solving max_cut\n",
    "    # We take this time amount and divide by the number of samples to get avg convergence time\n",
    "    time = @elapsed begin\n",
    "    for _ in 1:samples\n",
    "        state::Dice.Hybrid = Dice.get_random_hybrid(num_vertices, 2.0)\n",
    "        agnum = 0\n",
    "        for _ in 1:agitation_count\n",
    "            agnum += 1\n",
    "            state = Dice.propagate(model, num_steps, state)\n",
    "            if sum(S .* state[1]) == 0\n",
    "                converged += 1\n",
    "                break\n",
    "            end\n",
    "            state = (state[1], Dice.get_random_cube(num_vertices, 2.0))\n",
    "        end\n",
    "        counts_list[agnum] += 1\n",
    "    end\n",
    "    end\n",
    "    converge_ratio = converged/samples\n",
    "    return [counts_list,converge_ratio,time]\n",
    "end"
   ]
  },
  {
   "cell_type": "code",
   "execution_count": 11,
   "id": "7cbe33af-cd00-4524-8d44-bac9a5389cba",
   "metadata": {},
   "outputs": [
    {
     "name": "stdout",
     "output_type": "stream",
     "text": [
      "params = Dict{String, Any}(\"starting_agitations\" => 1, \"set\" => [4, -9, -8, -1, -6, -9, 1, -2, -10, -40], \"C\" => 100, \"sim_time\" => 6, \"sample\" => 1000, \"min_steps\" => 100)\n",
      "100Finished 1 agitations, 0.0 agitations remain\n",
      "The results are saved to Ratio Idea with 100, min steps 100\n",
      "  0.868740 seconds (3.24 M allocations: 175.419 MiB, 2.18% gc time, 88.65% compilation time)\n"
     ]
    }
   ],
   "source": [
    "# Now creating the thing to run\n",
    "\n",
    "params = Dict{String, Any}(\n",
    "    \"set\" => [4, -9, -8, -1, -6, -9, 1, -2, -10, -40], # Look above for the generated set, or replace with custom\n",
    "    \"sim_time\" => 6,\n",
    "    \"sample\" => 1000,\n",
    "    \"C\" => 10^2,\n",
    "    \"starting_agitations\" => 1,\n",
    "    \"min_steps\" => 100 \n",
    ")\n",
    "\n",
    "@show params\n",
    "\n",
    "agiation_num = []\n",
    "convergence_ratios = []\n",
    "run_time = []\n",
    "counts_lists = []\n",
    "\n",
    "@time begin\n",
    "\n",
    "    agitations = params[\"starting_agitations\"]\n",
    "    \n",
    "    # Run all the simulations\n",
    "    while params[\"C\"]/agitations >= params[\"min_steps\"]\n",
    "\n",
    "        print(round(Int,params[\"C\"]/agitations))\n",
    "    \n",
    "        result = Set_Step_Variational_Agitator(params[\"set\"], params[\"sim_time\"], round(Int,params[\"C\"]/agitations), agitations, params[\"sample\"])\n",
    "        \n",
    "        push!(agiation_num, agitations)\n",
    "        push!(counts_lists, result[1])\n",
    "        push!(convergence_ratios, result[2])\n",
    "        push!(run_time, result[3])\n",
    "        \n",
    "        println(\"Finished $agitations agitations, $(params[\"C\"]/params[\"min_steps\"] - agitations) agitations remain\")\n",
    "\n",
    "        agitations += 1\n",
    "    end\n",
    "\n",
    "    out_name = \"Ratio Idea with $(params[\"C\"]), min steps $(params[\"min_steps\"])\"\n",
    "    # Initialize the record file:\n",
    "    open(out_name, \"a\") do outf\n",
    "        println(outf, \"#PARAMETERS\")\n",
    "        for param in keys(params)\n",
    "            println(outf, \"# $param = $(params[param])\")\n",
    "        end\n",
    "        println(outf, \"\\n#Note, format for DATA is [agitation_num, convergence_ratio, time for num of samples in params, counts_list]\")\n",
    "        println(outf, \"\\n#DATA\")\n",
    "        println(outf, \" counts = [\")\n",
    "\n",
    "        #Writing data to file\n",
    "        for (agitation, counts, converge_ratio, times) in zip(agiation_num, counts_lists, convergence_ratios, run_time)\n",
    "            println(outf, \"\\t[$agitation, $converge_ratio, $times, $counts],\")\n",
    "        end\n",
    "        \n",
    "        println(outf, \"]\\n\")\n",
    "    end\n",
    "\n",
    "    println(\"The results are saved to $(out_name)\")\n",
    "end"
   ]
  },
  {
   "cell_type": "code",
   "execution_count": null,
   "id": "05e92915-aa42-4341-b617-7dcb47cf3362",
   "metadata": {},
   "outputs": [],
   "source": []
  },
  {
   "cell_type": "code",
   "execution_count": null,
   "id": "b206f05b-eaa4-4f40-9e4f-3d19000d7579",
   "metadata": {},
   "outputs": [],
   "source": []
  }
 ],
 "metadata": {
  "kernelspec": {
   "display_name": "Julia 1.11.6",
   "language": "julia",
   "name": "julia-1.11"
  },
  "language_info": {
   "file_extension": ".jl",
   "mimetype": "application/julia",
   "name": "julia",
   "version": "1.11.6"
  }
 },
 "nbformat": 4,
 "nbformat_minor": 5
}
