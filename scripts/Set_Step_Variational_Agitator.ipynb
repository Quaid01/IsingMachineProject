{
 "cells": [
  {
   "cell_type": "markdown",
   "id": "379e2018-2a7c-4e77-a490-de93d5d26500",
   "metadata": {},
   "source": [
    "# EXPERIMENT 1\n",
    "\n",
    "We will implement a function with a set number of time steps, then increasing agitations to see how convergence rates and execution time change. The things which are constant:\n",
    "\n",
    "- The set size\n",
    "- The set's elements (which shall be randomly generated with the function from Agitator_Experiments.ipnyb.\n",
    "- Simulation Time\n",
    "- Number of steps\n",
    "\n",
    "I think up to 50 agitations are enough for right now, but we will see. The results are saved into the folder where this file is. This is because I do not know how to change the file generation and writing in code."
   ]
  },
  {
   "cell_type": "code",
   "execution_count": 47,
   "id": "047eb51b-83be-4254-8f54-dda21cc78702",
   "metadata": {},
   "outputs": [],
   "source": [
    "# Packages\n",
    "using Dice, Graphs, SimpleWeightedGraphs"
   ]
  },
  {
   "cell_type": "code",
   "execution_count": 3,
   "id": "f27024f4-58b2-4580-a819-b6e29bdcd3c7",
   "metadata": {},
   "outputs": [
    {
     "data": {
      "text/plain": [
       "sum_problem (generic function with 1 method)"
      ]
     },
     "execution_count": 3,
     "metadata": {},
     "output_type": "execute_result"
    }
   ],
   "source": [
    "# Set generating function\n",
    "\n",
    "\"\"\"This creates a set with lenght n such that the first n-1 entries are \n",
    "randomized from [-10,10] and the last entry is the  sum of the other n-1 entries.\n",
    "The intended solution for this set is the n-1 entries in one partition while the last entry is in another. But there may be a set \n",
    "where there are multiple entries and thus solutions.\"\"\"\n",
    "\n",
    "function sum_problem(set_length::Int) ::Vector{Int}\n",
    "    set = []\n",
    "    for i in 1:set_length-1\n",
    "        k = 0\n",
    "        while k == 0\n",
    "            k = rand(-10:10)\n",
    "        end\n",
    "        push!(set,k)\n",
    "    end\n",
    "    push!(set, sum(set))\n",
    "    return set\n",
    "end"
   ]
  },
  {
   "cell_type": "code",
   "execution_count": 4,
   "id": "6e85ed49-35ee-4ecd-8361-f60a0e733339",
   "metadata": {},
   "outputs": [
    {
     "data": {
      "text/plain": [
       "Agitator (generic function with 1 method)"
      ]
     },
     "execution_count": 4,
     "metadata": {},
     "output_type": "execute_result"
    }
   ],
   "source": [
    "# Creating the computing function, this will be run to supply a single iteration of data.\n",
    "# It is simply a modified version of the Agitator from Agitator_Experiments.ipnyb\n",
    "# One thing to note is that convergence could still happen on the final attempt, \n",
    "# so the final value in the counts_list array is NOT an accurate representation.\n",
    "\n",
    "function Agitator(parameters::Dict{String, Any}, debug_mode::Bool) ::Vector\n",
    "    S = parameters[\"set\"]\n",
    "    time_total= parameters[\"sim_time\"]\n",
    "    steps = parameters[\"steps\"]\n",
    "    # Make Graph\n",
    "    graph_set = SimpleWeightedGraph(length(S))\n",
    "    \n",
    "    # Adding edges\n",
    "    for i in range(1,length(S)-1)\n",
    "        for j in range(i+1,length(S))\n",
    "        # We iterate over all possible options, excluding duplicates to avoid weird issues. Thus the range(i,4). \n",
    "        # Then we check if i == j, then the edge doesn't exist. Otherwise, continue\n",
    "            add_edge!(graph_set,i,j,(S[i]*S[j]))\n",
    "        end\n",
    "    end\n",
    "    \n",
    "    # Making model\n",
    "    # Stop time in model units\n",
    "    total_time = time_total\n",
    "    # Number of timesteps\n",
    "    num_steps = steps\n",
    "    # Step size\n",
    "    delta_t = total_time/num_steps\n",
    "    # Makes model\n",
    "    model = Dice.Model(graph_set, Dice.model_2_hybrid_coupling, delta_t)\n",
    "\n",
    "    # Making randomized initial state\n",
    "    num_vertices = Graphs.nv(model.graph)\n",
    "    \n",
    "    converged = 0\n",
    "    diverged = 0\n",
    "    counts_list = zeros(parameters[\"num_agitations\"])\n",
    "\n",
    "    for _ in 1:parameters[\"iterations\"]\n",
    "        state::Dice.Hybrid = Dice.get_random_hybrid(num_vertices, 2.0)\n",
    "        agnum = 0\n",
    "        for _ in 1:parameters[\"num_agitations\"]\n",
    "            agnum += 1\n",
    "            state = Dice.propagate(model, num_steps, state)\n",
    "            if sum(S .* state[1]) == 0\n",
    "                converged += 1\n",
    "                break\n",
    "            end\n",
    "            state = (state[1], Dice.get_random_cube(num_vertices, 2.0))\n",
    "        end\n",
    "        counts_list[agnum] += 1\n",
    "    end\n",
    "    converge_ratio = converged/parameters[\"iterations\"]\n",
    "    return [counts_list,converge_ratio]\n",
    "end"
   ]
  },
  {
   "cell_type": "code",
   "execution_count": 22,
   "id": "9b1b1c2a-3297-472a-8b64-c073fdb8bfac",
   "metadata": {},
   "outputs": [
    {
     "data": {
      "text/plain": [
       "Dict{String, Any} with 5 entries:\n",
       "  \"iterations\"     => 10000\n",
       "  \"steps\"          => 1500\n",
       "  \"num_agitations\" => 20\n",
       "  \"set\"            => [-4, -7, 5, 7, 1]\n",
       "  \"sim_time\"       => 6"
      ]
     },
     "execution_count": 22,
     "metadata": {},
     "output_type": "execute_result"
    }
   ],
   "source": [
    "# A bunch of parameters to use in these functions\n",
    "\n",
    "params = Dict{String, Any}(\n",
    "    \"set\" => sum_problem(5),\n",
    "    \"sim_time\" => 6,\n",
    "    \"steps\" => 1500,\n",
    "    \"iterations\" => 10000,\n",
    "    \"num_agitations\" => 20\n",
    ")"
   ]
  },
  {
   "cell_type": "code",
   "execution_count": 30,
   "id": "c04f036e-be69-4bcd-bc28-58195c7a2cfe",
   "metadata": {},
   "outputs": [
    {
     "data": {
      "text/plain": [
       "Set_Step_Variational_Agitator (generic function with 1 method)"
      ]
     },
     "execution_count": 30,
     "metadata": {},
     "output_type": "execute_result"
    }
   ],
   "source": [
    "# Creating the computing function, this will be run to supply a single iteration of data.\n",
    "# It is simply a modified version of the Agitator from Agitator_Experiments.ipnyb\n",
    "# One thing to note is that convergence could still happen on the final attempt, \n",
    "# so the final value in the counts_list array is NOT an accurate representation.\n",
    "\n",
    "function Set_Step_Variational_Agitator(set::Vector{Int}, time_total::Int, steps::Int, agitation_count::Int, samples::Int) ::Vector\n",
    "    S = set\n",
    "    # Make Graph\n",
    "    graph_set = SimpleWeightedGraph(length(S))\n",
    "    \n",
    "    # Adding edges\n",
    "    for i in range(1,length(S)-1)\n",
    "        for j in range(i+1,length(S))\n",
    "        # We iterate over all possible options, excluding duplicates to avoid weird issues. Thus the range(i,4). \n",
    "        # Then we check if i == j, then the edge doesn't exist. Otherwise, continue\n",
    "            add_edge!(graph_set,i,j,(S[i]*S[j]))\n",
    "        end\n",
    "    end\n",
    "    \n",
    "    # Making model\n",
    "    # Stop time in model units\n",
    "    total_time = time_total\n",
    "    # Number of timesteps\n",
    "    num_steps = steps\n",
    "    # Step size\n",
    "    delta_t = total_time/num_steps\n",
    "    # Makes model\n",
    "    model = Dice.Model(graph_set, Dice.model_2_hybrid_coupling, delta_t)\n",
    "\n",
    "    # Making randomized initial state\n",
    "    num_vertices = Graphs.nv(model.graph)\n",
    "    \n",
    "    converged = 0\n",
    "    diverged = 0\n",
    "    counts_list = zeros(agitation_count)\n",
    "    times = []\n",
    "    # We assume set_up takes minimal time, bulk of computational time is solving max_cut\n",
    "    # We take this time amount and divide by the number of samples to get avg convergence time\n",
    "    time = @elapsed begin\n",
    "    for _ in 1:samples\n",
    "        state::Dice.Hybrid = Dice.get_random_hybrid(num_vertices, 2.0)\n",
    "        agnum = 0\n",
    "        for _ in 1:agitation_count\n",
    "            agnum += 1\n",
    "            state = Dice.propagate(model, num_steps, state)\n",
    "            if sum(S .* state[1]) == 0\n",
    "                converged += 1\n",
    "                break\n",
    "            end\n",
    "            state = (state[1], Dice.get_random_cube(num_vertices, 2.0))\n",
    "        end\n",
    "        counts_list[agnum] += 1\n",
    "    end\n",
    "    end\n",
    "    converge_ratio = converged/samples\n",
    "    return [counts_list,converge_ratio,time]\n",
    "end"
   ]
  },
  {
   "cell_type": "code",
   "execution_count": 31,
   "id": "0c309c7f-288f-4327-b80c-f01b6776096c",
   "metadata": {},
   "outputs": [
    {
     "name": "stdout",
     "output_type": "stream",
     "text": [
      "[4, 5, 7, 16]Vector{Int64}"
     ]
    },
    {
     "data": {
      "text/plain": [
       "3-element Vector{Any}:\n",
       "  [327.0, 229.0, 141.0, 106.0, 67.0, 43.0, 30.0, 17.0, 14.0, 26.0]\n",
       " 0.985\n",
       " 0.714974208"
      ]
     },
     "execution_count": 31,
     "metadata": {},
     "output_type": "execute_result"
    }
   ],
   "source": [
    "set = sum_problem(4)\n",
    "print(set)\n",
    "print(typeof(set))\n",
    "\n",
    "partition = Set_Step_Variational_Agitator(set, 6, 1000, 10, 1000)"
   ]
  },
  {
   "cell_type": "code",
   "execution_count": 33,
   "id": "7fac6268-cd8f-4a32-b951-3d23dab2deb6",
   "metadata": {},
   "outputs": [
    {
     "ename": "LoadError",
     "evalue": "BoundsError: attempt to access Tuple{Int64, Int64} at index [3]",
     "output_type": "error",
     "traceback": [
      "BoundsError: attempt to access Tuple{Int64, Int64} at index [3]",
      "",
      "Stacktrace:",
      " [1] \u001b[0m\u001b[1mindexed_iterate\u001b[22m",
      "\u001b[90m   @\u001b[39m \u001b[90m./\u001b[39m\u001b[90m\u001b[4mtuple.jl:159\u001b[24m\u001b[39m\u001b[90m [inlined]\u001b[39m",
      " [2] \u001b[0m\u001b[1m(::var\"#19#20\")\u001b[22m\u001b[0m\u001b[1m(\u001b[22m\u001b[90moutf\u001b[39m::\u001b[0mIOStream\u001b[0m\u001b[1m)\u001b[22m",
      "\u001b[90m   @\u001b[39m \u001b[36mMain\u001b[39m \u001b[90m./\u001b[39m\u001b[90m\u001b[4mIn[33]:12\u001b[24m\u001b[39m",
      " [3] \u001b[0m\u001b[1mopen\u001b[22m\u001b[0m\u001b[1m(\u001b[22m::\u001b[0mvar\"#19#20\", ::\u001b[0mString, ::\u001b[0mVararg\u001b[90m{String}\u001b[39m; \u001b[90mkwargs\u001b[39m::\u001b[0m@Kwargs\u001b[90m{}\u001b[39m\u001b[0m\u001b[1m)\u001b[22m",
      "\u001b[90m   @\u001b[39m \u001b[90mBase\u001b[39m \u001b[90m./\u001b[39m\u001b[90m\u001b[4mio.jl:410\u001b[24m\u001b[39m",
      " [4] \u001b[0m\u001b[1mopen\u001b[22m\u001b[0m\u001b[1m(\u001b[22m::\u001b[0mFunction, ::\u001b[0mString, ::\u001b[0mString\u001b[0m\u001b[1m)\u001b[22m",
      "\u001b[90m   @\u001b[39m \u001b[90mBase\u001b[39m \u001b[90m./\u001b[39m\u001b[90m\u001b[4mio.jl:407\u001b[24m\u001b[39m",
      " [5] top-level scope",
      "\u001b[90m   @\u001b[39m \u001b[90m\u001b[4mIn[33]:5\u001b[24m\u001b[39m"
     ]
    }
   ],
   "source": [
    "out_name = \"bob\"\n",
    "iter_list = [1,2,3,4]\n",
    "it_counts = [2,4,5,7]\n",
    "#format will prolly be [max_agitation, rate_converge, time_for_all_samples]\n",
    "open(out_name, \"a\") do outf\n",
    "    println(outf, \"#PARAMETERS\")\n",
    "    for param in keys(params)\n",
    "        println(outf, \"# $param = $(params[param])\")\n",
    "    end\n",
    "    println(outf, \"\\n#DATA\")\n",
    "    println(outf, \" counts = [\")\n",
    "    for (max_agitation, rate_converge, time_for_all_samples) in zip(iter_list, it_counts)\n",
    "        println(outf, \"\\t[$iter, $count],\")\n",
    "    end\n",
    "    println(outf, \"]\\n\")\n",
    "end\n",
    "\n",
    "println(\"The results are saved to $(out_name)\")"
   ]
  },
  {
   "cell_type": "code",
   "execution_count": 44,
   "id": "0e52f169-1c8c-413e-bfd5-1bb3decab5a1",
   "metadata": {},
   "outputs": [
    {
     "data": {
      "text/plain": [
       "10-element Vector{Int64}:\n",
       "   5\n",
       "  -4\n",
       "  -6\n",
       "  -7\n",
       "   5\n",
       "  -6\n",
       "  -2\n",
       "   8\n",
       "  -4\n",
       " -11"
      ]
     },
     "execution_count": 44,
     "metadata": {},
     "output_type": "execute_result"
    }
   ],
   "source": [
    "# Setting the set to make things more obvious:\n",
    "\n",
    "set = sum_problem(10)\n",
    "params[\"set\"] = set"
   ]
  },
  {
   "cell_type": "code",
   "execution_count": 46,
   "id": "0fb01c31-4bc8-4262-b682-6619069f6f33",
   "metadata": {},
   "outputs": [
    {
     "name": "stdout",
     "output_type": "stream",
     "text": [
      "params = Dict{String, Any}(\"iterations\" => 10000, \"steps\" => 1500, \"set\" => [5, -4, -6, -7, 5, -6, -2, 8, -4, -11], \"sim_time\" => 6, \"max_agitations\" => 30)\n",
      "The 1th iteration done, 29 left\n"
     ]
    },
    {
     "ename": "LoadError",
     "evalue": "InterruptException:",
     "output_type": "error",
     "traceback": [
      "InterruptException:",
      "",
      "Stacktrace:",
      "  [1] \u001b[0m\u001b[1mGenericMemory\u001b[22m",
      "\u001b[90m    @\u001b[39m \u001b[90m./\u001b[39m\u001b[90m\u001b[4mboot.jl:516\u001b[24m\u001b[39m\u001b[90m [inlined]\u001b[39m",
      "  [2] \u001b[0m\u001b[1mArray\u001b[22m",
      "\u001b[90m    @\u001b[39m \u001b[90m./\u001b[39m\u001b[90m\u001b[4mboot.jl:578\u001b[24m\u001b[39m\u001b[90m [inlined]\u001b[39m",
      "  [3] \u001b[0m\u001b[1mArray\u001b[22m",
      "\u001b[90m    @\u001b[39m \u001b[90m./\u001b[39m\u001b[90m\u001b[4mboot.jl:591\u001b[24m\u001b[39m\u001b[90m [inlined]\u001b[39m",
      "  [4] \u001b[0m\u001b[1mArray\u001b[22m",
      "\u001b[90m    @\u001b[39m \u001b[90m./\u001b[39m\u001b[90m\u001b[4mboot.jl:599\u001b[24m\u001b[39m\u001b[90m [inlined]\u001b[39m",
      "  [5] \u001b[0m\u001b[1msimilar\u001b[22m",
      "\u001b[90m    @\u001b[39m \u001b[90m./\u001b[39m\u001b[90m\u001b[4mabstractarray.jl:868\u001b[24m\u001b[39m\u001b[90m [inlined]\u001b[39m",
      "  [6] \u001b[0m\u001b[1msimilar\u001b[22m",
      "\u001b[90m    @\u001b[39m \u001b[90m./\u001b[39m\u001b[90m\u001b[4mabstractarray.jl:867\u001b[24m\u001b[39m\u001b[90m [inlined]\u001b[39m",
      "  [7] \u001b[0m\u001b[1msimilar\u001b[22m",
      "\u001b[90m    @\u001b[39m \u001b[90m./\u001b[39m\u001b[90m\u001b[4mbroadcast.jl:224\u001b[24m\u001b[39m\u001b[90m [inlined]\u001b[39m",
      "  [8] \u001b[0m\u001b[1msimilar\u001b[22m",
      "\u001b[90m    @\u001b[39m \u001b[90m./\u001b[39m\u001b[90m\u001b[4mbroadcast.jl:223\u001b[24m\u001b[39m\u001b[90m [inlined]\u001b[39m",
      "  [9] \u001b[0m\u001b[1mcopy\u001b[22m",
      "\u001b[90m    @\u001b[39m \u001b[90m./\u001b[39m\u001b[90m\u001b[4mbroadcast.jl:897\u001b[24m\u001b[39m\u001b[90m [inlined]\u001b[39m",
      " [10] \u001b[0m\u001b[1mmaterialize\u001b[22m",
      "\u001b[90m    @\u001b[39m \u001b[90m./\u001b[39m\u001b[90m\u001b[4mbroadcast.jl:872\u001b[24m\u001b[39m\u001b[90m [inlined]\u001b[39m",
      " [11] \u001b[0m\u001b[1mpropagate\u001b[22m\u001b[0m\u001b[1m(\u001b[22m\u001b[90mgraph\u001b[39m::\u001b[0mSimpleWeightedGraph\u001b[90m{Int64, Float64}\u001b[39m, \u001b[90mtmax\u001b[39m::\u001b[0mInt64, \u001b[90mscale\u001b[39m::\u001b[0mFloat64, \u001b[90mmtd\u001b[39m::\u001b[0mFunction, \u001b[90mstart\u001b[39m::\u001b[0mTuple\u001b[90m{Vector{Int8}, Vector{Float64}}\u001b[39m\u001b[0m\u001b[1m)\u001b[22m",
      "\u001b[90m    @\u001b[39m \u001b[35mDice\u001b[39m \u001b[90m~/Documents/Research Professor/Mikhail Erementchouk/Dice_Student_Ali/src/\u001b[39m\u001b[90m\u001b[4mDice.jl:975\u001b[24m\u001b[39m",
      " [12] \u001b[0m\u001b[1mpropagate\u001b[22m\u001b[0m\u001b[1m(\u001b[22m\u001b[90mmodel\u001b[39m::\u001b[0mModel, \u001b[90mtmax\u001b[39m::\u001b[0mInt64, \u001b[90mstart\u001b[39m::\u001b[0mTuple\u001b[90m{Vector{Int8}, Vector{Float64}}\u001b[39m\u001b[0m\u001b[1m)\u001b[22m",
      "\u001b[90m    @\u001b[39m \u001b[35mDice\u001b[39m \u001b[90m~/Documents/Research Professor/Mikhail Erementchouk/Dice_Student_Ali/src/\u001b[39m\u001b[90m\u001b[4mDice.jl:984\u001b[24m\u001b[39m",
      " [13] \u001b[0m\u001b[1mmacro expansion\u001b[22m",
      "\u001b[90m    @\u001b[39m \u001b[90m./\u001b[39m\u001b[90m\u001b[4mIn[30]:45\u001b[24m\u001b[39m\u001b[90m [inlined]\u001b[39m",
      " [14] \u001b[0m\u001b[1mmacro expansion\u001b[22m",
      "\u001b[90m    @\u001b[39m \u001b[90m./\u001b[39m\u001b[90m\u001b[4mtiming.jl:421\u001b[24m\u001b[39m\u001b[90m [inlined]\u001b[39m",
      " [15] \u001b[0m\u001b[1mSet_Step_Variational_Agitator\u001b[22m\u001b[0m\u001b[1m(\u001b[22m\u001b[90mset\u001b[39m::\u001b[0mVector\u001b[90m{Int64}\u001b[39m, \u001b[90mtime_total\u001b[39m::\u001b[0mInt64, \u001b[90msteps\u001b[39m::\u001b[0mInt64, \u001b[90magitation_count\u001b[39m::\u001b[0mInt64, \u001b[90msamples\u001b[39m::\u001b[0mInt64\u001b[0m\u001b[1m)\u001b[22m",
      "\u001b[90m    @\u001b[39m \u001b[36mMain\u001b[39m \u001b[90m./\u001b[39m\u001b[90m\u001b[4mIn[30]:39\u001b[24m\u001b[39m",
      " [16] \u001b[0m\u001b[1mmacro expansion\u001b[22m",
      "\u001b[90m    @\u001b[39m \u001b[90m./\u001b[39m\u001b[90m\u001b[4mIn[46]:28\u001b[24m\u001b[39m\u001b[90m [inlined]\u001b[39m",
      " [17] \u001b[0m\u001b[1mmacro expansion\u001b[22m",
      "\u001b[90m    @\u001b[39m \u001b[90m./\u001b[39m\u001b[90m\u001b[4mtiming.jl:581\u001b[24m\u001b[39m\u001b[90m [inlined]\u001b[39m",
      " [18] top-level scope",
      "\u001b[90m    @\u001b[39m \u001b[90m./\u001b[39m\u001b[90m\u001b[4mIn[46]:13\u001b[24m\u001b[39m"
     ]
    }
   ],
   "source": [
    "# Now creating the thing to run\n",
    "\n",
    "params = Dict{String, Any}(\n",
    "    \"set\" => set, # Look above for the generated set\n",
    "    \"sim_time\" => 6,\n",
    "    \"steps\" => 1500,\n",
    "    \"iterations\" => 10000,\n",
    "    \"max_agitations\" => 50 #How many agitations we will run, starting at 1 with the first continous shuffle to make initial state.\n",
    ")\n",
    "\n",
    "@show params\n",
    "\n",
    "@time begin\n",
    "    out_name = \"Set Step Variational Agitator Results: $(params[\"steps\"]) Steps and $(params[\"max_agitations\"]) Agitations\"\n",
    "    # Initialize the record file:\n",
    "    open(out_name, \"a\") do outf\n",
    "        println(outf, \"#PARAMETERS\")\n",
    "        for param in keys(params)\n",
    "            println(outf, \"# $param = $(params[param])\")\n",
    "        end\n",
    "        println(outf, \"\\n#Note, format for DATA is [agitation_num, convergence_ratio, time for num of iterations in params]\")\n",
    "        println(outf, \"\\n#DATA\")\n",
    "        println(outf, \" counts = [\")\n",
    "    end\n",
    "\n",
    "    # Run all the simulations\n",
    "    for agitation in 1:params[\"max_agitations\"]\n",
    "        result = Set_Step_Variational_Agitator(params[\"set\"], params[\"sim_time\"], params[\"steps\"], agitation, params[\"iterations\"])\n",
    "        open(out_name, \"a\") do outf\n",
    "            println(outf, \"\\t[$agitation, $(result[2]), $(result[3])],\") #format is [agitation_num, convergence_ratio, time for num of iterations in params\n",
    "        end\n",
    "        println(\"The $(agitation)th iteration done, $(params[\"max_agitations\"] - agitation) left\")\n",
    "    end\n",
    "\n",
    "    # Finish data formating\n",
    "    open(out_name, \"a\") do outf\n",
    "            println(outf, \"]\\n\")\n",
    "    end\n",
    "\n",
    "    println(\"The results are saved to $(out_name)\")\n",
    "end\n"
   ]
  },
  {
   "cell_type": "markdown",
   "id": "5391f4df-a589-40a5-a4ac-240ebf1210b3",
   "metadata": {},
   "source": [
    "Now we can do a bunch of iterations to see any trends at all. "
   ]
  },
  {
   "cell_type": "code",
   "execution_count": null,
   "id": "89b84c88-909d-4ed4-9de8-92cc666b3d32",
   "metadata": {},
   "outputs": [],
   "source": []
  }
 ],
 "metadata": {
  "kernelspec": {
   "display_name": "Julia 1.11.6",
   "language": "julia",
   "name": "julia-1.11"
  },
  "language_info": {
   "file_extension": ".jl",
   "mimetype": "application/julia",
   "name": "julia",
   "version": "1.11.6"
  }
 },
 "nbformat": 4,
 "nbformat_minor": 5
}
