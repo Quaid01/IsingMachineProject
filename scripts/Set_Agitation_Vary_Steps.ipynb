{
 "cells": [
  {
   "cell_type": "markdown",
   "id": "697f2b1b-d71e-4529-9e0f-7ba0c286ada0",
   "metadata": {},
   "source": [
    "# EXPERIMENT 2\n",
    "\n",
    "We will implement a function with a set number of agitations, then increasing step count to see how convergence rates and execution time change. The things which are constant:\n",
    "\n",
    "- The set size\n",
    "- The set's elements (which shall be randomly generated with the function from Agitator_Experiments.ipnyb.\n",
    "- Simulation Time\n",
    "- Number of Agitations\n",
    "\n",
    "We will start with 50 steps, then increase all the way to 10000 steps, in 50 step increments. The results are saved into the folder where this file is. This is because I do not know how to change the file generation and writing in code. This will be a slight modification from Experiment 1, so it should not be too difficult to make."
   ]
  },
  {
   "cell_type": "code",
   "execution_count": 6,
   "id": "7a24e534-dbb4-4adf-a128-35bbe22a473d",
   "metadata": {},
   "outputs": [],
   "source": [
    "# Packages\n",
    "using Dice, Graphs, SimpleWeightedGraphs\n"
   ]
  },
  {
   "cell_type": "code",
   "execution_count": 8,
   "id": "ee346019-568e-4b62-8422-9380ea19ad1c",
   "metadata": {},
   "outputs": [
    {
     "data": {
      "text/plain": [
       "Dict{String, Any} with 6 entries:\n",
       "  \"step_increment\"      => 50\n",
       "  \"max_steps\"           => 10000\n",
       "  \"set\"                 => Any[]\n",
       "  \"iteration_increment\" => 10000\n",
       "  \"sim_time\"            => 6\n",
       "  \"max_agitations\"      => 10"
      ]
     },
     "execution_count": 8,
     "metadata": {},
     "output_type": "execute_result"
    }
   ],
   "source": [
    "params = Dict{String, Any}(\n",
    "    \"set\" => [], # Look above for the generated set\n",
    "    \"sim_time\" => 6,\n",
    "    \"step_increment\" => 50,\n",
    "    \"iteration_increment\" => 10000,\n",
    "    \"max_steps\" => 10000,\n",
    "    \"max_agitations\" => 10 \n",
    ")"
   ]
  },
  {
   "cell_type": "code",
   "execution_count": 3,
   "id": "f7c6c362-c48f-47d0-8743-dc01dd612466",
   "metadata": {},
   "outputs": [
    {
     "data": {
      "text/plain": [
       "sum_problem (generic function with 1 method)"
      ]
     },
     "execution_count": 3,
     "metadata": {},
     "output_type": "execute_result"
    }
   ],
   "source": [
    "# Set generating function\n",
    "\n",
    "\"\"\"This creates a set with lenght n such that the first n-1 entries are \n",
    "randomized from [-10,10] and the last entry is the  sum of the other n-1 entries.\n",
    "The intended solution for this set is the n-1 entries in one partition while the last entry is in another. But there may be a set \n",
    "where there are multiple entries and thus solutions.\"\"\"\n",
    "\n",
    "function sum_problem(set_length::Int) ::Vector{Int}\n",
    "    set = []\n",
    "    for i in 1:set_length-1\n",
    "        k = 0\n",
    "        while k == 0\n",
    "            k = rand(-10:10)\n",
    "        end\n",
    "        push!(set,k)\n",
    "    end\n",
    "    push!(set, sum(set))\n",
    "    return set\n",
    "end"
   ]
  },
  {
   "cell_type": "code",
   "execution_count": 3,
   "id": "06445b22-81ec-4e14-913e-bc3e2b035d15",
   "metadata": {},
   "outputs": [
    {
     "data": {
      "text/plain": [
       "Set_Step_Variational_Agitator (generic function with 1 method)"
      ]
     },
     "execution_count": 3,
     "metadata": {},
     "output_type": "execute_result"
    }
   ],
   "source": [
    "# Creating the computing function, this will be run to supply a single iteration of data.\n",
    "# It is simply a modified version of the Agitator from Agitator_Experiments.ipnyb\n",
    "# One thing to note is that convergence could still happen on the final attempt, \n",
    "# so the final value in the counts_list array is NOT an accurate representation.\n",
    "\n",
    "function Set_Step_Variational_Agitator(set::Vector{Int}, time_total::Int, steps::Int, agitation_count::Int, samples::Int) ::Vector\n",
    "    S = set\n",
    "    # Make Graph\n",
    "    graph_set = SimpleWeightedGraph(length(S))\n",
    "    \n",
    "    # Adding edges\n",
    "    for i in range(1,length(S)-1)\n",
    "        for j in range(i+1,length(S))\n",
    "        # We iterate over all possible options, excluding duplicates to avoid weird issues. Thus the range(i,4). \n",
    "        # Then we check if i == j, then the edge doesn't exist. Otherwise, continue\n",
    "            add_edge!(graph_set,i,j,(S[i]*S[j]))\n",
    "        end\n",
    "    end\n",
    "    \n",
    "    # Making model\n",
    "    # Stop time in model units\n",
    "    total_time = time_total\n",
    "    # Number of timesteps\n",
    "    num_steps = steps\n",
    "    # Step size\n",
    "    delta_t = total_time/num_steps\n",
    "    # Makes model\n",
    "    model = Dice.Model(graph_set, Dice.model_2_hybrid_coupling, delta_t)\n",
    "\n",
    "    # Making randomized initial state\n",
    "    num_vertices = Graphs.nv(model.graph)\n",
    "    \n",
    "    converged = 0\n",
    "    diverged = 0\n",
    "    counts_list = zeros(agitation_count)\n",
    "    times = []\n",
    "    # We assume set_up takes minimal time, bulk of computational time is solving max_cut\n",
    "    # We take this time amount and divide by the number of samples to get avg convergence time\n",
    "    time = @elapsed begin\n",
    "    for _ in 1:samples\n",
    "        state::Dice.Hybrid = Dice.get_random_hybrid(num_vertices, 2.0)\n",
    "        agnum = 0\n",
    "        for _ in 1:agitation_count\n",
    "            agnum += 1\n",
    "            state = Dice.propagate(model, num_steps, state)\n",
    "            if sum(S .* state[1]) == 0\n",
    "                converged += 1\n",
    "                break\n",
    "            end\n",
    "            state = (state[1], Dice.get_random_cube(num_vertices, 2.0))\n",
    "        end\n",
    "        counts_list[agnum] += 1\n",
    "    end\n",
    "    end\n",
    "    converge_ratio = converged/samples\n",
    "    return [counts_list,converge_ratio,time]\n",
    "end"
   ]
  },
  {
   "cell_type": "code",
   "execution_count": 5,
   "id": "afc141f5-5541-4593-8eea-c740250e2ef8",
   "metadata": {},
   "outputs": [
    {
     "data": {
      "text/plain": [
       "10-element Vector{Int64}:\n",
       "  9\n",
       " -9\n",
       "  8\n",
       " -8\n",
       " -8\n",
       " -8\n",
       "  8\n",
       "  9\n",
       " -6\n",
       " -5"
      ]
     },
     "execution_count": 5,
     "metadata": {},
     "output_type": "execute_result"
    }
   ],
   "source": [
    "# Setting the set to make things more obvious:\n",
    "\n",
    "set = sum_problem(10)\n",
    "params[\"set\"] = set"
   ]
  },
  {
   "cell_type": "code",
   "execution_count": 37,
   "id": "4839832c-23e4-4442-bc96-a8649e0611ff",
   "metadata": {},
   "outputs": [
    {
     "name": "stdout",
     "output_type": "stream",
     "text": [
      "params = Dict{String, Any}(\"step_increment\" => 50, \"max_steps\" => 1000, \"set\" => [4, -9, -8, -1, -6, -9, 1, -2, -10, -40], \"sim_time\" => 6, \"sample\" => 10000, \"max_agitations\" => 1)\n",
      "Step count is 50; 5.0% Done\n",
      "Step count is 100; 10.0% Done\n",
      "Step count is 150; 15.0% Done\n",
      "Step count is 200; 20.0% Done\n",
      "Step count is 250; 25.0% Done\n",
      "Step count is 300; 30.0% Done\n",
      "Step count is 350; 35.0% Done\n",
      "Step count is 400; 40.0% Done\n",
      "Step count is 450; 45.0% Done\n",
      "Step count is 500; 50.0% Done\n",
      "Step count is 550; 55.0% Done\n",
      "Step count is 600; 60.0% Done\n",
      "Step count is 650; 65.0% Done\n",
      "Step count is 700; 70.0% Done\n",
      "Step count is 750; 75.0% Done\n",
      "Step count is 800; 80.0% Done\n",
      "Step count is 850; 85.0% Done\n",
      "Step count is 900; 90.0% Done\n",
      "Step count is 950; 95.0% Done\n",
      "Step count is 1000; 100.0% Done\n",
      "The results are saved to Incrementing by 50 and 1 Agitations\n",
      "20\n",
      "102.122624 seconds (633.65 M allocations: 42.399 GiB, 1.82% gc time, 0.08% compilation time)\n"
     ]
    }
   ],
   "source": [
    "# Now creating the thing to run\n",
    "\n",
    "params = Dict{String, Any}(\n",
    "    \"set\" => [4, -9, -8, -1, -6, -9, 1, -2, -10, -40], # Look above for the generated set, or replace with custom\n",
    "    \"sim_time\" => 6,\n",
    "    \"step_increment\" => 50,\n",
    "    \"sample\" => 10000,\n",
    "    \"max_steps\" => 1000,\n",
    "    \"max_agitations\" => 1 \n",
    ")\n",
    "\n",
    "@show params\n",
    "\n",
    "step_count = []\n",
    "convergence_ratios = []\n",
    "run_time = []\n",
    "counts_lists = []\n",
    "\n",
    "@time begin\n",
    "\n",
    "    steps = 0\n",
    "\n",
    "    # Run all the simulations\n",
    "    while steps < params[\"max_steps\"]\n",
    "\n",
    "        steps += params[\"step_increment\"]\n",
    "        \n",
    "        result = Set_Step_Variational_Agitator(params[\"set\"], params[\"sim_time\"], steps, params[\"max_agitations\"], params[\"sample\"])\n",
    "        \n",
    "        push!(step_count, steps)\n",
    "        push!(counts_lists, result[1])\n",
    "        push!(convergence_ratios, result[2])\n",
    "        push!(run_time, result[3])\n",
    "        \n",
    "        println(\"Step count is $(steps); $(steps*100/params[\"max_steps\"])% Done\")\n",
    "    end\n",
    "\n",
    "    out_name = \"Incrementing by $(params[\"step_increment\"]) and $(params[\"max_agitations\"]) Agitations\"\n",
    "    # Initialize the record file:\n",
    "    open(out_name, \"a\") do outf\n",
    "        println(outf, \"#PARAMETERS\")\n",
    "        for param in keys(params)\n",
    "            println(outf, \"# $param = $(params[param])\")\n",
    "        end\n",
    "        println(outf, \"\\n#Note, format for DATA is [step_count, convergence_ratio, time for num of sample in params, counts_list]\")\n",
    "        println(outf, \"\\n#DATA\")\n",
    "        println(outf, \" counts = [\")\n",
    "\n",
    "        #Writing data to file\n",
    "        for (stp, counts, converge_ratio, times) in zip(step_count, counts_lists, convergence_ratios, run_time)\n",
    "            println(outf, \"\\t[$stp, $converge_ratio, $times, $counts],\")\n",
    "        end\n",
    "        \n",
    "        println(outf, \"]\\n\")\n",
    "    end\n",
    "\n",
    "    println(\"The results are saved to $(out_name)\")\n",
    "    println(debug)\n",
    "end"
   ]
  },
  {
   "cell_type": "code",
   "execution_count": null,
   "id": "8f3acd9c-7472-48d8-a1bd-419c3512ddca",
   "metadata": {},
   "outputs": [],
   "source": []
  }
 ],
 "metadata": {
  "kernelspec": {
   "display_name": "Julia 1.11.6",
   "language": "julia",
   "name": "julia-1.11"
  },
  "language_info": {
   "file_extension": ".jl",
   "mimetype": "application/julia",
   "name": "julia",
   "version": "1.11.6"
  }
 },
 "nbformat": 4,
 "nbformat_minor": 5
}
